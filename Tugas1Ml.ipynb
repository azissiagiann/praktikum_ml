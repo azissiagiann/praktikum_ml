{
  "nbformat": 4,
  "nbformat_minor": 0,
  "metadata": {
    "colab": {
      "provenance": []
    },
    "kernelspec": {
      "name": "python3",
      "display_name": "Python 3"
    },
    "language_info": {
      "name": "python"
    }
  },
  "cells": [
    {
      "cell_type": "code",
      "execution_count": null,
      "metadata": {
        "id": "q_UxKW2yyie-"
      },
      "outputs": [],
      "source": [
        "import pandas as pd"
      ]
    },
    {
      "cell_type": "code",
      "source": [
        "import os"
      ],
      "metadata": {
        "id": "gVYfYVG90ECh"
      },
      "execution_count": null,
      "outputs": []
    },
    {
      "cell_type": "code",
      "source": [
        "folder_path = 'content/drive/My Drive'"
      ],
      "metadata": {
        "id": "9as40ATb0ZC6"
      },
      "execution_count": null,
      "outputs": []
    },
    {
      "cell_type": "code",
      "source": [
        "from google.colab import drive\n",
        "drive.mount('/content/drive')"
      ],
      "metadata": {
        "colab": {
          "base_uri": "https://localhost:8080/"
        },
        "id": "e1In8ovs0cyQ",
        "outputId": "ec6a40a7-bfce-4f7e-8fd0-0954ca7cff93"
      },
      "execution_count": null,
      "outputs": [
        {
          "output_type": "stream",
          "name": "stdout",
          "text": [
            "Mounted at /content/drive\n"
          ]
        }
      ]
    },
    {
      "cell_type": "code",
      "source": [
        "\n",
        "file_path = '/content/drive/MyDrive/Tugas1MachineLearning/Data/hour.csv'\n",
        "df = pd.read_csv(file_path)\\"
      ],
      "metadata": {
        "id": "3UpNF2uM2mB2"
      },
      "execution_count": null,
      "outputs": []
    },
    {
      "cell_type": "code",
      "source": [
        "df1 = df[['instant', 'dteday', 'season', 'temp', 'hum', 'windspeed']]"
      ],
      "metadata": {
        "id": "YUkAVGxl33lv"
      },
      "execution_count": null,
      "outputs": []
    },
    {
      "cell_type": "code",
      "source": [
        "print(df1.head())"
      ],
      "metadata": {
        "colab": {
          "base_uri": "https://localhost:8080/"
        },
        "id": "QCuS0Cxc37QG",
        "outputId": "b1d6d631-fcad-4cc5-f23c-3f273f2de9b4"
      },
      "execution_count": null,
      "outputs": [
        {
          "output_type": "stream",
          "name": "stdout",
          "text": [
            "   instant      dteday  season  temp   hum  windspeed\n",
            "0        1  2011-01-01       1  0.24  0.81        0.0\n",
            "1        2  2011-01-01       1  0.22  0.80        0.0\n",
            "2        3  2011-01-01       1  0.22  0.80        0.0\n",
            "3        4  2011-01-01       1  0.24  0.75        0.0\n",
            "4        5  2011-01-01       1  0.24  0.75        0.0\n"
          ]
        }
      ]
    }
  ]
}